{
  "nbformat": 4,
  "nbformat_minor": 0,
  "metadata": {
    "colab": {
      "provenance": [],
      "toc_visible": true,
      "authorship_tag": "ABX9TyN69/19UKr4wMQ8Xuf3Wf7y",
      "include_colab_link": true
    },
    "kernelspec": {
      "name": "python3",
      "display_name": "Python 3"
    },
    "language_info": {
      "name": "python"
    }
  },
  "cells": [
    {
      "cell_type": "markdown",
      "metadata": {
        "id": "view-in-github",
        "colab_type": "text"
      },
      "source": [
        "<a href=\"https://colab.research.google.com/github/Mdbasitperwaiz/Cyber-threat-dashboard/blob/main/task_manager.ipynb\" target=\"_parent\"><img src=\"https://colab.research.google.com/assets/colab-badge.svg\" alt=\"Open In Colab\"/></a>"
      ]
    },
    {
      "cell_type": "code",
      "execution_count": null,
      "metadata": {
        "colab": {
          "base_uri": "https://localhost:8080/"
        },
        "id": "b5igBSUZxs7Q",
        "outputId": "4c950f3f-3df8-4723-aa22-024cbe02ff89"
      },
      "outputs": [
        {
          "name": "stdout",
          "output_type": "stream",
          "text": [
            "Task Manager\n",
            "1. Create Task\n",
            "2. View Tasks\n",
            "3. Update Task\n",
            "4. Delete Task\n",
            "5. Exit\n",
            "Enter your choice: 1\n"
          ]
        }
      ],
      "source": [
        "class Task:\n",
        "    def __init__(self, id, name, description):\n",
        "        self.id = id\n",
        "        self.name = name\n",
        "        self.description = description\n",
        "\n",
        "    def __str__(self):\n",
        "        return f\"ID: {self.id}, Name: {self.name}, Description: {self.description}\"\n",
        "\n",
        "tasks = []  # List to store tasks\n",
        "\n",
        "def create_task():\n",
        "    id = len(tasks) + 1\n",
        "    name = input(\"Enter task name: \")\n",
        "    description = input(\"Enter task description: \")\n",
        "    task = Task(id, name, description)\n",
        "    tasks.append(task)\n",
        "    print(\"Task added successfully!\\n\")\n",
        "\n",
        "def read_tasks():\n",
        "    if not tasks:\n",
        "        print(\"No tasks available.\\n\")\n",
        "    else:\n",
        "        for task in tasks:\n",
        "            print(task)\n",
        "\n",
        "def update_task():\n",
        "    task_id = int(input(\"Enter task ID to update: \"))\n",
        "    for task in tasks:\n",
        "        if task.id == task_id:\n",
        "            task.name = input(\"Enter new task name: \")\n",
        "            task.description = input(\"Enter new task description: \")\n",
        "            print(\"Task updated successfully!\\n\")\n",
        "            return\n",
        "    print(\"Task not found!\\n\")\n",
        "\n",
        "def delete_task():\n",
        "    task_id = int(input(\"Enter task ID to delete: \"))\n",
        "    global tasks\n",
        "    tasks = [task for task in tasks if task.id != task_id]\n",
        "    print(\"Task deleted successfully!\\n\")\n",
        "\n",
        "def main():\n",
        "    while True:\n",
        "        print(\"\\nTask Manager\")\n",
        "        print(\"1. Create Task\")\n",
        "        print(\"2. View Tasks\")\n",
        "        print(\"3. Update Task\")\n",
        "        print(\"4. Delete Task\")\n",
        "        print(\"5. Exit\")\n",
        "\n",
        "        choice = input(\"Enter your choice: \")\n",
        "\n",
        "        if choice == '1':\n",
        "            create_task()\n",
        "        elif choice == '2':\n",
        "            read_tasks()\n",
        "        elif choice == '3':\n",
        "            update_task()\n",
        "        elif choice == '4':\n",
        "            delete_task()\n",
        "        elif choice == '5':\n",
        "            print(\"Exiting program. Goodbye!\")\n",
        "            break\n",
        "        else:\n",
        "            print(\"Invalid choice. Please try again!\\n\")\n",
        "\n",
        "if __name__ == \"__main__\":\n",
        "    main()\n"
      ]
    }
  ]
}