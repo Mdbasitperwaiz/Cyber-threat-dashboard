{
  "nbformat": 4,
  "nbformat_minor": 0,
  "metadata": {
    "colab": {
      "provenance": [],
      "authorship_tag": "ABX9TyP6VzSadEfRpIHrNMWOrRMa",
      "include_colab_link": true
    },
    "kernelspec": {
      "name": "python3",
      "display_name": "Python 3"
    },
    "language_info": {
      "name": "python"
    }
  },
  "cells": [
    {
      "cell_type": "markdown",
      "metadata": {
        "id": "view-in-github",
        "colab_type": "text"
      },
      "source": [
        "<a href=\"https://colab.research.google.com/github/Mdbasitperwaiz/Cyber-threat-dashboard/blob/main/cave_program.ipynb\" target=\"_parent\"><img src=\"https://colab.research.google.com/assets/colab-badge.svg\" alt=\"Open In Colab\"/></a>"
      ]
    },
    {
      "cell_type": "code",
      "execution_count": 1,
      "metadata": {
        "colab": {
          "base_uri": "https://localhost:8080/"
        },
        "id": "by9ATdlKd9HG",
        "outputId": "038c44de-2fa7-420b-cdca-416fed9678a9"
      },
      "outputs": [
        {
          "output_type": "stream",
          "name": "stdout",
          "text": [
            "🏔️ Welcome to the Mysterious Cave Adventure! 🏔️\n",
            "You find yourself at the entrance of a dark cave.\n",
            "Do you dare to enter? (yes/no): yes\n",
            "You step inside and see two paths ahead.\n",
            "Do you go LEFT where it's bright or RIGHT where it's dark? (left/right): right\n",
            "A giant spider jumps out! 🕷️ You try to run but it's too late... Game Over!\n"
          ]
        }
      ],
      "source": [
        "import time\n",
        "\n",
        "def cave_adventure():\n",
        "    print(\"🏔️ Welcome to the Mysterious Cave Adventure! 🏔️\")\n",
        "    time.sleep(1)\n",
        "    print(\"You find yourself at the entrance of a dark cave.\")\n",
        "\n",
        "    choice1 = input(\"Do you dare to enter? (yes/no): \").lower()\n",
        "    if choice1 == \"no\":\n",
        "        print(\"You decide it's too scary and go home. Game Over! 😨\")\n",
        "        return\n",
        "\n",
        "    print(\"You step inside and see two paths ahead.\")\n",
        "    time.sleep(1)\n",
        "\n",
        "    choice2 = input(\"Do you go LEFT where it's bright or RIGHT where it's dark? (left/right): \").lower()\n",
        "    if choice2 == \"left\":\n",
        "        print(\"You find a treasure chest filled with gold! 🎉 YOU WIN!\")\n",
        "    elif choice2 == \"right\":\n",
        "        print(\"A giant spider jumps out! 🕷️ You try to run but it's too late... Game Over!\")\n",
        "    else:\n",
        "        print(\"You hesitate too long and the cave collapses. Game Over!\")\n",
        "\n",
        "# Start the game\n",
        "cave_adventure()\n"
      ]
    }
  ]
}