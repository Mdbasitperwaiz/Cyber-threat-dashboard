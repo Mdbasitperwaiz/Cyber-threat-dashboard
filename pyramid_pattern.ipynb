{
  "nbformat": 4,
  "nbformat_minor": 0,
  "metadata": {
    "colab": {
      "provenance": [],
      "toc_visible": true,
      "authorship_tag": "ABX9TyPPajaBc8l/ekewi1pSFaAP",
      "include_colab_link": true
    },
    "kernelspec": {
      "name": "python3",
      "display_name": "Python 3"
    },
    "language_info": {
      "name": "python"
    }
  },
  "cells": [
    {
      "cell_type": "markdown",
      "metadata": {
        "id": "view-in-github",
        "colab_type": "text"
      },
      "source": [
        "<a href=\"https://colab.research.google.com/github/Mdbasitperwaiz/Cyber-threat-dashboard/blob/main/pyramid_pattern.ipynb\" target=\"_parent\"><img src=\"https://colab.research.google.com/assets/colab-badge.svg\" alt=\"Open In Colab\"/></a>"
      ]
    },
    {
      "cell_type": "code",
      "execution_count": 1,
      "metadata": {
        "colab": {
          "base_uri": "https://localhost:8080/"
        },
        "id": "620g-4k3xOOA",
        "outputId": "9e346c22-f0b2-4c86-e778-7eab1d00dd71"
      },
      "outputs": [
        {
          "output_type": "stream",
          "name": "stdout",
          "text": [
            "Enter the number of rows: 5\n",
            "    1 \n",
            "   1 2 \n",
            "  1 2 3 \n",
            " 1 2 3 4 \n",
            "1 2 3 4 5 \n"
          ]
        }
      ],
      "source": [
        "def pyramid_pattern(rows):\n",
        "    for i in range(1, rows + 1):\n",
        "        print(\" \" * (rows - i), end=\"\")  # Print leading spaces\n",
        "        for j in range(1, i + 1):\n",
        "            print(j, end=\" \")  # Print numbers\n",
        "        print()  # Move to the next line\n",
        "\n",
        "# Example usage\n",
        "rows = int(input(\"Enter the number of rows: \"))\n",
        "pyramid_pattern(rows)\n"
      ]
    }
  ]
}